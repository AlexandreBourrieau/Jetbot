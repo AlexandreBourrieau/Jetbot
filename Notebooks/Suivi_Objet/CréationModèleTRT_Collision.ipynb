{
 "cells": [
  {
   "cell_type": "markdown",
   "id": "3a5d7cbb-d7b3-4141-9579-2ecf84d227a2",
   "metadata": {},
   "source": [
    "# Conversion du modèle au format TensorRT"
   ]
  },
  {
   "cell_type": "code",
   "execution_count": null,
   "id": "ed6a42d7-72d3-49f3-a131-5ad12c3cac13",
   "metadata": {},
   "outputs": [],
   "source": [
    "!python3 -m tf2onnx.convert --saved-model \"/home/alexandre/Jetbot/Notebooks/Optimisation_TensorRT/meilleur_model\" --output \"meilleur_model.onnx\""
   ]
  },
  {
   "cell_type": "code",
   "execution_count": null,
   "id": "d8565d29-bc40-4a5c-872b-59834966f510",
   "metadata": {},
   "outputs": [],
   "source": [
    "import onnx\n",
    "\n",
    "batch_size = 1\n",
    "onnx_model = onnx.load(\"meilleur_model.onnx\")"
   ]
  },
  {
   "cell_type": "code",
   "execution_count": null,
   "id": "3bbfd210-94ee-4a7d-8373-124d76284127",
   "metadata": {},
   "outputs": [],
   "source": [
    "inputs = onnx_model.graph.input\n",
    "inputs"
   ]
  },
  {
   "cell_type": "code",
   "execution_count": null,
   "id": "1f06ffbf-1322-4c18-a64e-5045d621bfe3",
   "metadata": {},
   "outputs": [],
   "source": [
    "batch_size = 1\n",
    "\n",
    "inputs = onnx_model.graph.input\n",
    "for input in inputs:\n",
    "    dim1 = input.type.tensor_type.shape.dim[0]\n",
    "    dim1.dim_value = batch_size"
   ]
  },
  {
   "cell_type": "code",
   "execution_count": null,
   "id": "6c0203de-ff95-490b-920f-0c7f42da3813",
   "metadata": {},
   "outputs": [],
   "source": [
    "onnx.save_model(onnx_model,\"meilleur_model.onnx\")"
   ]
  },
  {
   "cell_type": "code",
   "execution_count": null,
   "id": "f8a10dc7-ca80-44cb-a6f0-80063ffd23b2",
   "metadata": {},
   "outputs": [],
   "source": [
    "!TensorRT/build/trtexec --fp16 --workspace=2048 --inputIOFormats=fp32:hwc\\\n",
    "    --onnx=\"meilleur_model.onnx\" \\\n",
    "    --saveEngine=\"model_collision.engine\""
   ]
  },
  {
   "cell_type": "markdown",
   "id": "96b4d1a6-bd60-444e-b08d-423a65ff432b",
   "metadata": {},
   "source": [
    "# Test de la rapidité du modèle"
   ]
  },
  {
   "cell_type": "code",
   "execution_count": null,
   "id": "6ad2b1ae-c8c3-4278-b3b9-2575eb9a6703",
   "metadata": {},
   "outputs": [],
   "source": [
    "!TensorRT/build/trtexec --loadEngine=model_collision.engine \\\n",
    "                        --useCudaGraph \\\n",
    "                        --noDataTransfers \\\n",
    "                        --iterations=100 \\\n",
    "                        --avgRuns=100"
   ]
  },
  {
   "cell_type": "code",
   "execution_count": null,
   "id": "42c60378-39b1-472d-b86f-a662102cf78d",
   "metadata": {},
   "outputs": [],
   "source": []
  }
 ],
 "metadata": {
  "kernelspec": {
   "display_name": "Python 3",
   "language": "python",
   "name": "python3"
  },
  "language_info": {
   "codemirror_mode": {
    "name": "ipython",
    "version": 3
   },
   "file_extension": ".py",
   "mimetype": "text/x-python",
   "name": "python",
   "nbconvert_exporter": "python",
   "pygments_lexer": "ipython3",
   "version": "3.6.9"
  }
 },
 "nbformat": 4,
 "nbformat_minor": 5
}
