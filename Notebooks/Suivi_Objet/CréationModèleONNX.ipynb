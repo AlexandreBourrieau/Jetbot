{
 "cells": [
  {
   "cell_type": "markdown",
   "id": "723aeada-45f0-47cd-8742-2e5109ba6f39",
   "metadata": {},
   "source": [
    "# Téléchargement du dépot TensorRT"
   ]
  },
  {
   "cell_type": "markdown",
   "id": "c97067c8-3e62-43b3-9424-c14d2a8f6c2f",
   "metadata": {},
   "source": [
    "Nous allons utiliser les scripts Python fournis dans le dépot TensorRT pour convertir notre modèle. Les informations sont consultables ici : https://github.com/NVIDIA/TensorRT/tree/main/samples/python/tensorflow_object_detection_api"
   ]
  },
  {
   "cell_type": "code",
   "execution_count": null,
   "id": "e305da70-997e-4e1e-ad44-97cf619d92ee",
   "metadata": {},
   "outputs": [],
   "source": [
    "!git clone --branch release/8.4 --recursive https://github.com/NVIDIA/TensorRT.git"
   ]
  },
  {
   "cell_type": "markdown",
   "id": "288637d9-728d-482c-8e77-17a407f348d7",
   "metadata": {},
   "source": [
    "# Conversion du modèle au format ONNX"
   ]
  },
  {
   "cell_type": "markdown",
   "id": "88c692ec-c298-47c0-8d55-345fcbcd6ba8",
   "metadata": {},
   "source": [
    "### Installation des librairies"
   ]
  },
  {
   "cell_type": "code",
   "execution_count": null,
   "id": "f72ab6a4-4f3b-4b62-a00e-44023c8c5ff2",
   "metadata": {},
   "outputs": [],
   "source": [
    "!pip3 install nvidia-pyindex"
   ]
  },
  {
   "cell_type": "code",
   "execution_count": null,
   "id": "e5b734e3-869d-4d32-90e7-af01fd31f965",
   "metadata": {},
   "outputs": [],
   "source": [
    "!pip3 install onnx-graphsurgeon"
   ]
  },
  {
   "cell_type": "code",
   "execution_count": null,
   "id": "3ef1727b-2c36-4327-92ff-a923794c08a4",
   "metadata": {},
   "outputs": [],
   "source": [
    "!pip3 install onnxruntime"
   ]
  },
  {
   "cell_type": "markdown",
   "id": "0e633789-44b6-4155-9e2f-fbbc9303ef18",
   "metadata": {},
   "source": [
    "### Installation de Tensorflow 2 Objet Detection API"
   ]
  },
  {
   "cell_type": "code",
   "execution_count": null,
   "id": "d3156caa-7b62-4c2f-90fb-6813aa164708",
   "metadata": {},
   "outputs": [],
   "source": [
    "%cd models/research\n",
    "\n",
    "# Compile protos.\n",
    "!protoc object_detection/protos/*.proto --python_out=.\n",
    "\n",
    "# Install TensorFlow Object Detection API.\n",
    "!cp object_detection/packages/tf2/setup.py .\n",
    "!python3 -m pip install ."
   ]
  },
  {
   "cell_type": "code",
   "execution_count": null,
   "id": "55e2454c-8525-4fa3-a266-893994cf3d48",
   "metadata": {},
   "outputs": [],
   "source": [
    "%cd ../.."
   ]
  },
  {
   "cell_type": "markdown",
   "id": "f8d04e0a-47f5-46c6-adcc-f60ee560ce01",
   "metadata": {},
   "source": [
    "### Conversion du modèle"
   ]
  },
  {
   "cell_type": "markdown",
   "id": "8dfc3428-adce-4030-a811-d76d98a5b8fb",
   "metadata": {},
   "source": [
    "Pour convertir le modèle au format TensorRT, on commence par le convertir au format ONNX. La liste des modèles supportés par le script de conversion est consultable ici : https://github.com/NVIDIA/TensorRT/tree/main/samples/python/tensorflow_object_detection_api#create-onnx-graph"
   ]
  },
  {
   "cell_type": "code",
   "execution_count": null,
   "id": "bc7dd88f-9448-4026-b2cb-694848385c54",
   "metadata": {},
   "outputs": [],
   "source": [
    "!pwd"
   ]
  },
  {
   "cell_type": "code",
   "execution_count": null,
   "id": "cb864391-787e-4383-8281-0b3657473eff",
   "metadata": {},
   "outputs": [],
   "source": [
    "%set_env PYTHONPATH=\"/env/python:/home/alexandre/Jetbot/Notebooks/Suivi_Objet/models/research:/home/alexandre/Jetbot/Notebooks/Suivi_Objet/models/research/slim:/home/alexandre/Jetbot/Notebooks/Suivi_Objet/models:/home/alexandre/Jetbot/Notebooks/Suivi_Objet/TensorRT/samples/python/tensorflow_object_detection_api\""
   ]
  },
  {
   "cell_type": "code",
   "execution_count": null,
   "id": "fc23c064-efaa-4b41-8d24-1ffac85ea3e0",
   "metadata": {},
   "outputs": [],
   "source": [
    "# Bug de l'importation de la librairie onnxruntime sinon\n",
    "%set_env OPENBLAS_CORETYPE=CORTEXA57"
   ]
  },
  {
   "cell_type": "code",
   "execution_count": null,
   "id": "84fcc45d-d04d-4f7e-827e-557246efe15e",
   "metadata": {},
   "outputs": [],
   "source": [
    "!python3 TensorRT/samples/python/tensorflow_object_detection_api/create_onnx.py \\\n",
    "        --pipeline_config tfmodel_ssd_mobilenet_v2_320x320_coco17_tpu-8/pipeline.config \\\n",
    "        --saved_model tfmodel_ssd_mobilenet_v2_320x320_coco17_tpu-8/saved_model \\\n",
    "        --onnx tfmodel_ssd_mobilenet_v2_320x320_coco17_tpu-8/model.onnx \\\n",
    "        --input_format \"NHWC\""
   ]
  }
 ],
 "metadata": {
  "kernelspec": {
   "display_name": "Python 3",
   "language": "python",
   "name": "python3"
  },
  "language_info": {
   "codemirror_mode": {
    "name": "ipython",
    "version": 3
   },
   "file_extension": ".py",
   "mimetype": "text/x-python",
   "name": "python",
   "nbconvert_exporter": "python",
   "pygments_lexer": "ipython3",
   "version": "3.6.9"
  }
 },
 "nbformat": 4,
 "nbformat_minor": 5
}
