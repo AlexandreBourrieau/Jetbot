{
 "cells": [
  {
   "cell_type": "markdown",
   "id": "3a5d7cbb-d7b3-4141-9579-2ecf84d227a2",
   "metadata": {},
   "source": [
    "# Conversion du modèle au format TensorRT"
   ]
  },
  {
   "cell_type": "code",
   "execution_count": null,
   "id": "f8a10dc7-ca80-44cb-a6f0-80063ffd23b2",
   "metadata": {},
   "outputs": [],
   "source": [
    "!TensorRT/build/trtexec --fp16 --workspace=2048 \\\n",
    "    --onnx=\"tfmodel_ssd_mobilenet_v2_320x320_coco17_tpu-8/model.onnx\" \\\n",
    "    --saveEngine=\"tfmodel_ssd_mobilenet_v2_320x320_coco17_tpu-8/model.engine\""
   ]
  },
  {
   "cell_type": "markdown",
   "id": "96b4d1a6-bd60-444e-b08d-423a65ff432b",
   "metadata": {},
   "source": [
    "# Test de la rapidité du modèle"
   ]
  },
  {
   "cell_type": "code",
   "execution_count": null,
   "id": "6ad2b1ae-c8c3-4278-b3b9-2575eb9a6703",
   "metadata": {},
   "outputs": [],
   "source": [
    "!TensorRT/build/trtexec --loadEngine=tfmodel_ssd_mobilenet_v2_320x320_coco17_tpu-8/model.engine \\\n",
    "                        --useCudaGraph \\\n",
    "                        --noDataTransfers \\\n",
    "                        --iterations=100 \\\n",
    "                        --avgRuns=100"
   ]
  }
 ],
 "metadata": {
  "kernelspec": {
   "display_name": "Python 3",
   "language": "python",
   "name": "python3"
  },
  "language_info": {
   "codemirror_mode": {
    "name": "ipython",
    "version": 3
   },
   "file_extension": ".py",
   "mimetype": "text/x-python",
   "name": "python",
   "nbconvert_exporter": "python",
   "pygments_lexer": "ipython3",
   "version": "3.6.9"
  }
 },
 "nbformat": 4,
 "nbformat_minor": 5
}
