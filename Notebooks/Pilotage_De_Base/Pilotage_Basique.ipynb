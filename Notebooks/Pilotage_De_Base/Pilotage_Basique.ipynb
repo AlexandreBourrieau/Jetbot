{
 "cells": [
  {
   "cell_type": "markdown",
   "metadata": {},
   "source": [
    "# Pilotage basique\n",
    "\n",
    "Dans ce notebook, nous allons découvrir les commandes de base permettant de piloter le JetBot.\n",
    "\n",
    "### Importation de la classe Robot\n",
    "\n",
    "Le JetBot peut être piloté à l'aide des fonctions contenues dans la classe ``Robot``. Pour l'utiliser, nous avons tout d'abord besoin de l'importer sous Python."
   ]
  },
  {
   "cell_type": "code",
   "execution_count": 1,
   "metadata": {},
   "outputs": [],
   "source": [
    "from jetbot import Robot"
   ]
  },
  {
   "cell_type": "markdown",
   "metadata": {},
   "source": [
    "Une fois la classe importée, nous pouvons initialiser une instance de type Robot :"
   ]
  },
  {
   "cell_type": "code",
   "execution_count": 2,
   "metadata": {},
   "outputs": [],
   "source": [
    "robot = Robot()"
   ]
  },
  {
   "cell_type": "markdown",
   "metadata": {},
   "source": [
    "### Commande du robot"
   ]
  },
  {
   "cell_type": "markdown",
   "metadata": {
    "tags": []
   },
   "source": [
    "Nous avons maintenant instancié une classe de type Robot nommée ``robot``. Cette instance nous permet d'utiliser des fonctions afin de contrôler le robot.\n",
    "\n",
    "Par exemple, pour faire tourner la roue gauche du robot dans le sens des aiguilles d'une montre et à une vitesse correspondant à 30% de la vitesse maximale, il suffit d'appeler la méthode ``left`` :"
   ]
  },
  {
   "cell_type": "code",
   "execution_count": 5,
   "metadata": {},
   "outputs": [],
   "source": [
    "robot.left(speed=0.3)"
   ]
  },
  {
   "cell_type": "markdown",
   "metadata": {},
   "source": [
    "La roue de votre robot devrait tourner dans le sens des aiguilles d'une montre.\n",
    "\n",
    "Maintenant, nous pouvons arrêter le robot avec la méthode ``stop`` :"
   ]
  },
  {
   "cell_type": "code",
   "execution_count": 6,
   "metadata": {},
   "outputs": [],
   "source": [
    "robot.stop()"
   ]
  },
  {
   "cell_type": "markdown",
   "metadata": {},
   "source": [
    "Si on souhaite faire tourner la roue du robot seulement pendant une période de temps spécifique, il suffit d'utiliser la méthode ``sleep`` contenue dans le package ``time``. On commence donc par importer ce package :"
   ]
  },
  {
   "cell_type": "code",
   "execution_count": 8,
   "metadata": {},
   "outputs": [],
   "source": [
    "import time"
   ]
  },
  {
   "cell_type": "markdown",
   "metadata": {},
   "source": [
    "Et ensuite, nous pouvons appeler la méthode ``sleep`` en donnant la durée d'exécution en seconde. L'exemple ci-dessous va faire tourner la roue pendant 0,5s :"
   ]
  },
  {
   "cell_type": "code",
   "execution_count": 9,
   "metadata": {},
   "outputs": [],
   "source": [
    "robot.left(0.3)\n",
    "time.sleep(0.5)\n",
    "robot.stop()"
   ]
  },
  {
   "cell_type": "markdown",
   "metadata": {},
   "source": [
    "La classe ``Robot`` possède bien sûr d'autres méthodes ! Par exemple : ``right`` (tourner la roue droite), ``forward`` (avancer), et ``backward`` (reculer).\n",
    "\n",
    "Essayez par exemple de faire avancer le robot à 50% de sa vitesse maximale pendant 1 seconde ..."
   ]
  },
  {
   "cell_type": "code",
   "execution_count": 10,
   "metadata": {},
   "outputs": [],
   "source": [
    "# Programme à compléter\n",
    "# Faire avancer le robot en ligne droite, pendant 1s...\n",
    "\n"
   ]
  },
  {
   "cell_type": "markdown",
   "metadata": {},
   "source": [
    "### Contrôle des moteurs individuellement\n",
    "\n",
    "Si vous souhaitez activer les moteurs de manière individuelle, il existe deux manière de faire cela.\n",
    "\n",
    "La première méthode utilise la méthode ``set_motors``. Par exemple, pour faire tourner le moteur gauche à 30% et le droit à 60%, on peut utiliser la commande suivante. De cette manière, le robot va dessiner un arc de cercle :"
   ]
  },
  {
   "cell_type": "code",
   "execution_count": 15,
   "metadata": {},
   "outputs": [],
   "source": [
    "robot.set_motors(0.3, 0.6)\n",
    "time.sleep(1.0)\n",
    "robot.stop()"
   ]
  },
  {
   "cell_type": "markdown",
   "metadata": {},
   "source": [
    "L'autre manière de faire est d'utiliser les attributs ``left_motor`` et ``right_motor``. Ils représentent les valeurs des vitesses de chaque moteur.\n",
    "\n",
    "Ces attributs appartiennent à la classe ``Motor``, chacun possède un attribut nommé ``value``. C'est à cet attribut qu'il faut donner la valeur de la vitesse souhaitée :"
   ]
  },
  {
   "cell_type": "code",
   "execution_count": 16,
   "metadata": {},
   "outputs": [],
   "source": [
    "robot.left_motor.value = 0.3\n",
    "robot.right_motor.value = 0.6\n",
    "time.sleep(1.0)\n",
    "robot.left_motor.value = 0.0\n",
    "robot.right_motor.value = 0.0"
   ]
  },
  {
   "cell_type": "markdown",
   "metadata": {},
   "source": [
    "Vous devriez voir le robot exécuter la même trajectoire que précédemment."
   ]
  },
  {
   "cell_type": "markdown",
   "metadata": {},
   "source": [
    "### Lier les moteurs à des traitlets"
   ]
  },
  {
   "cell_type": "markdown",
   "metadata": {},
   "source": [
    "Les [traitlets](https://github.com/ipython/traitlets) permettent de gérer des méthodes de manière dynamique en Python. Les attributs que nous avons vus juste avant sont en fait des traitlets.\n",
    "\n",
    "Ce qui est sympa avec les traitlets, c'est qu'on peut les lier les uns aux autres... Cela nous permet de créer des interfaces graphiques sous les notebook de jupyter en liant ces traitlets avec des ``widgets``. On peut par exemple comme cela visualiser la vitesse d'un moteur...\n",
    "\n",
    "Bon... le mieux est quand même de voir à quoi cela ressemble ! On va donc créer deux slides permettant de contrôler la vitesse des moteurs :"
   ]
  },
  {
   "cell_type": "code",
   "execution_count": 17,
   "metadata": {},
   "outputs": [
    {
     "data": {
      "application/vnd.jupyter.widget-view+json": {
       "model_id": "fed1de0f227c47e7b525e19223394cb0",
       "version_major": 2,
       "version_minor": 0
      },
      "text/plain": [
       "HBox(children=(FloatSlider(value=0.0, description='gauche', max=1.0, min=-1.0, orientation='vertical', step=0.…"
      ]
     },
     "metadata": {},
     "output_type": "display_data"
    }
   ],
   "source": [
    "import ipywidgets.widgets as widgets\n",
    "from IPython.display import display\n",
    "\n",
    "# Création de deux slides avec un intervalle de [-1.0, 1.0]\n",
    "slide_gauche = widgets.FloatSlider(description='gauche', min=-1.0, max=1.0, step=0.01, orientation='vertical')\n",
    "slide_droit = widgets.FloatSlider(description='droit', min=-1.0, max=1.0, step=0.01, orientation='vertical')\n",
    "\n",
    "# Création d'une box horizontale qui va englober ces slides\n",
    "box_slides = widgets.HBox([slide_gauche, slide_droit])\n",
    "\n",
    "# Affiche la boite contenant les slides\n",
    "display(box_slides)"
   ]
  },
  {
   "cell_type": "markdown",
   "metadata": {},
   "source": [
    "Vous devriez voir deux slides verticaux.\n",
    "\n",
    "Essayez de faire varier la position des slides... Vous remarquez que rien ne se passe sur le robot. C'est parce que nous n'avons pas connecté les slides aux moteurs !\n",
    "\n",
    "Pour les connecter, nous allons utiliser la fonction ``link`` du package traitlets. Nous allons :\n",
    "- Connecter la valeur donnée au widget \"slide_gauche\" à la valeur left_motor\n",
    "- Faire de même pour le widget \"slide_droit\""
   ]
  },
  {
   "cell_type": "code",
   "execution_count": 18,
   "metadata": {},
   "outputs": [],
   "source": [
    "import traitlets\n",
    "\n",
    "lien_gauche = traitlets.link((slide_gauche, 'value'), (robot.left_motor, 'value'))\n",
    "lien_droit = traitlets.link((slide_droit, 'value'), (robot.right_motor, 'value'))"
   ]
  },
  {
   "cell_type": "markdown",
   "metadata": {},
   "source": [
    "Maintenant, si vous bougez de nouveau les slides... Les moteurs vont tourner !\n",
    "\n",
    "La fonction ``link`` que nous avons utilisée est un lien bidirectionnel. Cela signifie que si nous modifions la valeur du moteur (robot.left_motor ou robot.right_motor), les slides vont changer !\n",
    "\n",
    "Essayez par exemple le code ci-dessous. Vous verrez les roues du robot tourner, mais également les slides bouger !"
   ]
  },
  {
   "cell_type": "code",
   "execution_count": 20,
   "metadata": {},
   "outputs": [],
   "source": [
    "robot.forward(0.3)\n",
    "time.sleep(1.0)\n",
    "robot.stop()"
   ]
  },
  {
   "cell_type": "markdown",
   "metadata": {},
   "source": [
    "Si nous souhaitons annuler le lien, il suffit d'utiliser la méthode ``unlink`` sur chaque lien :"
   ]
  },
  {
   "cell_type": "code",
   "execution_count": null,
   "metadata": {},
   "outputs": [],
   "source": [
    "lien_gauche.unlink()\n",
    "lien_droit.unlink()"
   ]
  },
  {
   "cell_type": "markdown",
   "metadata": {},
   "source": [
    "On peut aussi créer des liens qui ne soient pas *bidirectionnels*. Par exemple, cela peut permettre d'utiliser les slides uniquement pour visualiser la valeur des moteurs mais sans pouvoir les commander avec eux.\n",
    "\n",
    "Pour cela, il faut utiliser la fonction ``dlink``. L'attribut de gauche est la source, et celui de droite est la destination :"
   ]
  },
  {
   "cell_type": "code",
   "execution_count": null,
   "metadata": {},
   "outputs": [],
   "source": [
    "lien_gauche = traitlets.dlink((robot.left_motor, 'value'), (slide_gauche, 'value'))\n",
    "lien_droit = traitlets.dlink((robot.right_motor, 'value'), (slide_droit, 'value'))\n",
    "\n",
    "# Affiche la boite contenant les slides\n",
    "display(box_slides)"
   ]
  },
  {
   "cell_type": "markdown",
   "metadata": {},
   "source": [
    "Si vous bougez les slides, vous ne verrez pas les moteurs tourner... Par contre, si vous exécuter le programme ci-dessous, vous verrez les slides bouger !"
   ]
  },
  {
   "cell_type": "code",
   "execution_count": null,
   "metadata": {},
   "outputs": [],
   "source": [
    "robot.forward(0.3)\n",
    "time.sleep(1.0)\n",
    "robot.stop()"
   ]
  },
  {
   "cell_type": "markdown",
   "metadata": {},
   "source": [
    "### Attacher des fonctions à des évènements"
   ]
  },
  {
   "cell_type": "markdown",
   "metadata": {},
   "source": [
    "Une autre manière d'utiliser les traitlets est d'attacher des fonctions (comme par exemple la fonction ``forward``) à des évènements.\n",
    "\n",
    "Ces fonctions seront exécutées lorsqu'un évènement particulier arrivera, et transmettront des informations sur les changement engendrés, comme par exemple une vieille ``(old)`` valeur et une nouvelle ``(new)`` valeur.  \n",
    "\n",
    "Mais encore une fois, le plus simple est de regarder un exemple... Commençons par créer des boutons qui vont nous permettre de commander le robot :"
   ]
  },
  {
   "cell_type": "code",
   "execution_count": null,
   "metadata": {},
   "outputs": [],
   "source": [
    "# Création des boutons\n",
    "layout_bouton = widgets.Layout(width='100px', height='80px', align_self='center')\n",
    "\n",
    "bouton_stop = widgets.Button(description='stop', button_style='danger', layout=layout_bouton)\n",
    "bouton_avance = widgets.Button(description='forward', layout=layout_bouton)\n",
    "bouton_recul = widgets.Button(description='backward', layout=layout_bouton)\n",
    "bouton_gauche = widgets.Button(description='left', layout=layout_bouton)\n",
    "bouton_droit = widgets.Button(description='right', layout=layout_bouton)\n",
    "\n",
    "# Affiche les boutons\n",
    "boite_milieu = widgets.HBox([bouton_gauche, bouton_stop, bouton_droit], layout=widgets.Layout(align_self='center'))\n",
    "boite_controls = widgets.VBox([bouton_avance, boite_milieu, bouton_recul])\n",
    "display(boite_controls)"
   ]
  },
  {
   "cell_type": "markdown",
   "metadata": {},
   "source": [
    "Pour l'instant, ces boutons ne font rien ... Il faut tout d'abord définir les actions à effectuer lorsque les boutons sont appuyés :"
   ]
  },
  {
   "cell_type": "code",
   "execution_count": null,
   "metadata": {},
   "outputs": [],
   "source": [
    "# Action à éxécuter lorsque le bouton stop sera appuyé\n",
    "def action_stop(change):\n",
    "    robot.stop()\n",
    "    \n",
    "# Action à éxécuter lorsque le bouton d'avance sera appuyé\n",
    "def action_avance(change):\n",
    "    robot.forward(0.4)\n",
    "    time.sleep(0.5)\n",
    "    robot.stop()\n",
    "\n",
    "# Action à éxécuter lorsque le bouton de recul sera appuyé\n",
    "def action_recul(change):\n",
    "    robot.backward(0.4)\n",
    "    time.sleep(0.5)\n",
    "    robot.stop()\n",
    "\n",
    "# Action à éxécuter lorsque le bouton gauche sera appuyé\n",
    "def action_gauche(change):\n",
    "    robot.left(0.3)\n",
    "    time.sleep(0.5)\n",
    "    robot.stop()\n",
    "\n",
    "# Action à éxécuter lorsque le bouton droit sera appuyé\n",
    "def action_droit(change):\n",
    "    robot.right(0.3)\n",
    "    time.sleep(0.5)\n",
    "    robot.stop()"
   ]
  },
  {
   "cell_type": "markdown",
   "metadata": {},
   "source": [
    " Ensuite, il suffit de lier les actions définies précédemment aux évènements engendrés lors de l'appui sur les boutons. Ces évènements sont de type ``on_click`` :"
   ]
  },
  {
   "cell_type": "code",
   "execution_count": null,
   "metadata": {},
   "outputs": [],
   "source": [
    "# Lien des actions avec les évènement des boutons\n",
    "bouton_stop.on_click(action_stop)\n",
    "bouton_avance.on_click(action_avance)\n",
    "bouton_recul.on_click(action_recul)\n",
    "bouton_gauche.on_click(action_gauche)\n",
    "bouton_droit.on_click(action_droit)"
   ]
  },
  {
   "cell_type": "markdown",
   "metadata": {},
   "source": [
    "Essayez maintenant d'appuyer sur les boutons !"
   ]
  },
  {
   "cell_type": "markdown",
   "metadata": {},
   "source": [
    "### Chien de garde\n",
    "\n",
    "Pour terminer, nous allons voir comment utiliser un \"chien de garde\" : son rôle va être de surveiller le bon fonctionnement de la connexion entre jupyter et le robot, et de l'arrêter en cas de besoin.\n",
    "\n",
    "Cette surveillance est exécutée à intervalles réguliers, et vous pouvez modifier la période de surveillance (en secondes) avec le slide.\n",
    "\n",
    "Si la communication entre jupyter et le robot est défectueuse, l'attribut `status` du chien de garde aura pour nouvelle valeur ``dead``. Dès que la connexion sera restaurée, l'attribut aura pour valeur ``alive``.\n",
    "\n",
    "Pour créer ce chien de garde, on utilise la classe ``Heartbeat``"
   ]
  },
  {
   "cell_type": "code",
   "execution_count": null,
   "metadata": {},
   "outputs": [],
   "source": [
    "from jetbot import Heartbeat\n",
    "\n",
    "chien_de_garde = Heartbeat()\n",
    "\n",
    "# Définition de la fonction à appeler lorsque le chien de garde change de status\n",
    "# Si le status passe à l'état dead, alors on arrête de le robot\n",
    "def action_chien_de_garde(change):\n",
    "    if change['new'] == chien_de_garde.Status.dead:\n",
    "        robot.stop()\n",
    "        \n",
    "# Active l'observation de l'attribut \"status\" du chien de garde\n",
    "# Et appel de la fonction \"action_chien_de_garde\" si il y a un changement\n",
    "chien_de_garde.observe(action_chien_de_garde, names='status')\n",
    "\n",
    "# Création d'un slide pour modifier la période d'observation\n",
    "slide_periode = widgets.FloatSlider(description='period', min=0.001, max=0.5, step=0.01, value=0.5)\n",
    "\n",
    "# Lien entre le slide et le chien de garde\n",
    "traitlets.dlink((slide_periode, 'value'), (chien_de_garde, 'period'))\n",
    "\n",
    "display(slide_periode)"
   ]
  },
  {
   "cell_type": "markdown",
   "metadata": {},
   "source": [
    "Maintenant que la surveillance est activée, exécuter le code ci-dessous pour actionner le robot. Ensuite, diminuez la période de la surveillance... Vous verrez le robot s'arrêter lorsque la période sera trop petite.\n",
    "\n",
    "Par exemple, si le robot s'arrête avec une période de 0.03, cela signifie que la liaison entre jupyter et le robot n'a aps pu être validée en moins de 0.03s."
   ]
  },
  {
   "cell_type": "code",
   "execution_count": null,
   "metadata": {},
   "outputs": [],
   "source": [
    "robot.left(0.2) "
   ]
  }
 ],
 "metadata": {
  "kernelspec": {
   "display_name": "Python 3",
   "language": "python",
   "name": "python3"
  },
  "language_info": {
   "codemirror_mode": {
    "name": "ipython",
    "version": 3
   },
   "file_extension": ".py",
   "mimetype": "text/x-python",
   "name": "python",
   "nbconvert_exporter": "python",
   "pygments_lexer": "ipython3",
   "version": "3.6.9"
  }
 },
 "nbformat": 4,
 "nbformat_minor": 4
}
