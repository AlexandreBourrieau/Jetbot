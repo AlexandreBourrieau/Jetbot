{
 "cells": [
  {
   "cell_type": "markdown",
   "id": "3a8713c0-3bb9-452d-930d-ce2921ba25b2",
   "metadata": {},
   "source": [
    "# Test de rapidité du modèle utilisé avec Keras (Resnet18)\n",
    "\n",
    "Dans ce notebook, nous allons tester la rapidité du modèle lorsqu'il est utilisé avec Keras - Tensorflow"
   ]
  },
  {
   "cell_type": "code",
   "execution_count": null,
   "id": "96baae5d-a860-4732-88c3-c1f5bc225f33",
   "metadata": {},
   "outputs": [],
   "source": [
    "import tensorflow as tf\n",
    "import numpy as np\n",
    "import cv2\n",
    "import os\n",
    "import shutil\n",
    "\n",
    "from tensorflow import keras"
   ]
  },
  {
   "cell_type": "markdown",
   "id": "537ddb1e-fd15-4811-8362-7a9320e3310e",
   "metadata": {},
   "source": [
    "# Création du modèle"
   ]
  },
  {
   "cell_type": "code",
   "execution_count": null,
   "id": "1e6a281b-1502-42bb-8c8b-038d4b5297be",
   "metadata": {},
   "outputs": [],
   "source": [
    "import classification_models\n",
    "from classification_models.tfkeras import Classifiers\n",
    "\n",
    "# Chargement du modèle ResNEt18\n",
    "ResNet18, preprocess_input = Classifiers.get('resnet18')\n",
    "\n",
    "# Instanciation du modèle pré-entrainé ResNet18\n",
    "base_model = ResNet18(input_shape=(224,224,3), weights='imagenet', include_top=False,pooling=False)\n",
    "\n",
    "# Désactivation des couches pour l'entrainement\n",
    "for layer in base_model.layers:\n",
    "    layer.trainable = False\n",
    "    \n",
    "# Ajout de l'applatissement des sorties et de la couche dense avec 2 neurones\"\n",
    "x = tf.keras.layers.GlobalAveragePooling2D()(base_model.output)\n",
    "output = tf.keras.layers.Dense(units=2, activation='softmax')(x)\n",
    "\n",
    "model = tf.keras.Model(inputs=[base_model.input], outputs=[output])"
   ]
  },
  {
   "cell_type": "markdown",
   "id": "2eba5d55-9199-4798-a111-79c3a75948ad",
   "metadata": {},
   "source": [
    "On charge ensuite les poids sauvegardés lors de l'entrainement :"
   ]
  },
  {
   "cell_type": "code",
   "execution_count": null,
   "id": "6542bd46-3a12-4272-8da8-4fddfb571b15",
   "metadata": {},
   "outputs": [],
   "source": [
    "model.load_weights(\"meilleur_modele_colab.hdf5\")"
   ]
  },
  {
   "cell_type": "markdown",
   "id": "fcf2b711-56b0-4964-a42d-b323d7d0163d",
   "metadata": {},
   "source": [
    "# Utilisation du modèle"
   ]
  },
  {
   "cell_type": "markdown",
   "id": "a6ab8a26-0481-4b56-afa2-5bb189cba225",
   "metadata": {},
   "source": [
    "Nous allons utiliser notre modèle pour mesurer son temps de calcul et son débit pour traiter les images. Du fait de l'initialisation du GPU, nous allons mesurer ces caractéristiques après avoir utilisé le modèle un petit nombre de fois :"
   ]
  },
  {
   "cell_type": "code",
   "execution_count": null,
   "id": "4091a86c-e6ae-4cba-bfd8-9957bae38687",
   "metadata": {},
   "outputs": [],
   "source": [
    "import time\n",
    "\n",
    "nbr_run = 100\n",
    "delais = []\n",
    "predictions = []\n",
    "\n",
    "image = np.zeros((224, 224, 3), dtype=np.float32)\n",
    "\n",
    "# Initialisation des calculs\n",
    "print(\"Initialisation des calculs...\")\n",
    "for i in range(5):\n",
    "    prediction = model(tf.expand_dims(image,0))\n",
    "    predictions.append(float(np.asarray(prediction[0])[0]))\n",
    "\n",
    "# Lance les inférences\n",
    "for i in range(nbr_run):\n",
    "    time0 = time.time()\n",
    "    prediction = model(tf.expand_dims(image,0))\n",
    "    time_end = time.time()\n",
    "        \n",
    "    delais = np.append(delais,time_end - time0)\n",
    "    predictions.append(float(np.asarray(prediction[0])[0]))\n",
    "        \n",
    "    if i%10 == 0:\n",
    "        print(\"Etape %d-%d moyenne : %4.1f ms\" %(i,i+5,(delais[-10:].mean())*1000))\n",
    "                       \n",
    "print(\"Débit : %.0f images/s\" %(nbr_run / delais.sum()))"
   ]
  },
  {
   "cell_type": "code",
   "execution_count": null,
   "id": "3d324419-2c50-4282-98cd-e68f43b85441",
   "metadata": {},
   "outputs": [],
   "source": []
  }
 ],
 "metadata": {
  "kernelspec": {
   "display_name": "Python 3",
   "language": "python",
   "name": "python3"
  },
  "language_info": {
   "codemirror_mode": {
    "name": "ipython",
    "version": 3
   },
   "file_extension": ".py",
   "mimetype": "text/x-python",
   "name": "python",
   "nbconvert_exporter": "python",
   "pygments_lexer": "ipython3",
   "version": "3.6.9"
  }
 },
 "nbformat": 4,
 "nbformat_minor": 5
}
