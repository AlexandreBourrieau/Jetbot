{
 "cells": [
  {
   "cell_type": "markdown",
   "metadata": {},
   "source": [
    "# Contrôle du JetBot avec une manette de jeu\n",
    "\n",
    "Dans cet exemple, nous allons apprendre à controller le Jetbot avec un GamePad connecté au navigateur internet de note machine."
   ]
  },
  {
   "cell_type": "markdown",
   "metadata": {},
   "source": [
    "### Création du contrôleur de la manette de jeu\n",
    "\n",
    "La première chose à faire est de créer un widget de type ``Controller``, qui sera utilisé pour piloter le Jetbot. Ce widget utilise un paramètre nommé ``index``, qui permet d'identifier le numéro du contrôlleur. Cela est utile dans le cas où vous utilisez plusieurs contrôleurs. Pour connaître l'index du contrôleur, il faut faire les démarches suivantes:\n",
    "\n",
    "1. Connecter l'adaptateur PS3 sur le port USB de la machine sur laquelle tourne ce notebook\n",
    "2. Visiter le site [http://html5gamepad.com](http://html5gamepad.com) à partir du navigateur internet.  \n",
    "3. Appuyer sur les boutons de la manette à utiliser\n",
    "4. Noter le numéro de ``l'index`` de la manette qui répond lors de l'appui sur les boutons\n",
    "\n",
    "Ensuite, nous pourrons créer et afficher le contrôleur à l'aide de cet index."
   ]
  },
  {
   "cell_type": "code",
   "execution_count": null,
   "metadata": {},
   "outputs": [],
   "source": [
    "import ipywidgets.widgets as widgets\n",
    "\n",
    "controleur = widgets.Controller(index=0)  # Utiliser ici l'index du contrôleur\n",
    "\n",
    "display(controleur)"
   ]
  },
  {
   "cell_type": "markdown",
   "metadata": {},
   "source": [
    "Même si l'index est correct, vous verrez peut-être le message ``Connect gamepad and press any button``. Cela vient du fait que la manette n'est pas encore enregistrée sur le notebook. Pour l'enregistrer, il faut appuyer sur un bouton. Ensuite, vous verrez apparaître le widget."
   ]
  },
  {
   "cell_type": "markdown",
   "metadata": {},
   "source": [
    "### Les modes de la manette de jeu\n",
    "\n",
    "La manette de jeu fournie avec le kit Waveshare possède deux modes de fonctionnement. Le premier est le mode PC/PS3/Android et le second est le mode Xbox360.\n",
    "Par défaut, la manette est configurée en mode PC/PS3/Android. Dans ce mode, il existe deux sous-modes. Il faut appuyer sur la touche HOME pour changer de sous-mode.\n",
    "\n",
    "Dans le **sous-mode 1** du mode PC/PS3/Android :\n",
    "- La façade de la manette n'affiche qu'une seule LED,\n",
    "- Le joystick droit est lié aux boutons 0, 1, 2 et 3,\n",
    "- Le joystick gauche est lié aux axes 0 et 1 et ne donne que des valeurs égales à 0, +1 ou -1.\n",
    "\n",
    "Dans le **sous-mode 2** du mode PC/PS3/Android ::\n",
    "- La façade de la manette affiche deux LED,\n",
    "- Le joystick droit est lié aux axes 2 et 5,\n",
    "- Le joystick gauche est lié aux axes 0 et 1,\n",
    "- Les valeurs données par les joystick sont comprises entre -1 et +1.\n",
    "- Lorsque le joystick est tout en haut, la valeur est de -1 et lorsque le joystick est tout en bas, la valeur est de +1\n",
    "- Lorsque le joystick est tout à droite, la valeur est de +1 et lorsque le joystick est tout à gauche, la valeur est de -1\n",
    "\n",
    "\n",
    "Pour passer au mode Xbox360, il faut rester appuyé sur le bouton HOME pendant plus de 7 secondes.\n",
    "\n",
    "Dans le **mode Xbox 360** :\n",
    "- Le joystick gauche est lié aux axes 0 et 1,\n",
    "- Le joystick droit est lié aux axes 2 et 3,\n",
    "- Lorsque le joystick est tout en haut, la valeur est de -1 et lorsque le joystick est tout en bas, la valeur est de +1\n",
    "- Lorsque le joystick est tout à droite, la valeur est de +1 et lorsque le joystick est tout à gauche, la valeur est de -1"
   ]
  },
  {
   "cell_type": "markdown",
   "metadata": {},
   "source": [
    "### Lier le contrôleur de la manette aux moteurs du robot \n",
    "\n",
    "La manette est maintenant connectée mais le contrôleur n'est toujours pas attaché au robot ! Le lien le plus simple que nous pouvons faire est celui dédié aux moteurs. Nous allons connecter le moteur gauche à l'axe gauche de la manette et le droit à l'axe droit de la manette avec un lien unidirectionnel, en utilisant la fonction ``dlink``. Le lien se fait de la ``source`` vers la ``cible``.\n",
    "\n",
    "J'ai choisi de me placer en mode XBOX 360. Si vous choisissez un autre mode, il faudra modifier la valeur des axes dans le code ci-dessous. Il y a aussi une petite subtilité : les valeurs étant inversées (+1 lorsque le joystick est complètement en bas et -1 lorsqu'il est totalement en haut), il faut ajouter une fonction lambda afin d'inverser les valeurs."
   ]
  },
  {
   "cell_type": "code",
   "execution_count": null,
   "metadata": {},
   "outputs": [],
   "source": [
    "from jetbot import Robot\n",
    "import traitlets\n",
    "\n",
    "robot = Robot()\n",
    "\n",
    "# Mode Xbox 360 : joystick vertical gauche : Axe 1\n",
    "#                 joystick vertical droit : Axe 3\n",
    "\n",
    "lien_gauche = traitlets.dlink((controleur.axes[1], 'value'), (robot.left_motor, 'value'), transform=lambda x: -x)\n",
    "lien_droit = traitlets.dlink((controleur.axes[3], 'value'), (robot.right_motor, 'value'), transform=lambda x: -x)"
   ]
  },
  {
   "cell_type": "markdown",
   "metadata": {},
   "source": [
    "Votre robot devrait maintenant répondre aux commandes !"
   ]
  },
  {
   "cell_type": "markdown",
   "metadata": {},
   "source": [
    "### Création d'un widget pour afficher des images\n",
    "\n",
    "Pour commencer, nous allons créer un widget de type ``Image`` qui nous permettra d'afficher les images du flux vidéo de la caméra embarquée dans le jetbot. Nous allons paramétrer la hauteur ``height`` et la largeur ``width`` sur 300 pixels afin qu'elles ne prennent pas trop de place en mémoire.\n",
    "\n",
    "> Remarque : Les paramètres de largeur et hauteur ne jouent que sur le rendu dans le navigateur. La résolution native de l'image avant le transport sur le réseau n'est pas modifiée."
   ]
  },
  {
   "cell_type": "code",
   "execution_count": null,
   "metadata": {},
   "outputs": [],
   "source": [
    "image = widgets.Image(format='jpeg', width=300, height=300)\n",
    "\n",
    "display(image)"
   ]
  },
  {
   "cell_type": "markdown",
   "metadata": {},
   "source": [
    "### Création d'une instance de caméra\n",
    "\n",
    "Aucune image ne s'affiche pour le moment, et c'est normal car il n'y a aucune valeur (le fameux attribut ``value``) d'enregistrée dans la variable image. Pour remplir cet attribut, nous allons l'attacher à l'attribut ``value`` d'une instance de caméra à l'aide d'un lien unidirectionnel.\n",
    "\n",
    "Commençons donc par créer une instance de caméra :"
   ]
  },
  {
   "cell_type": "code",
   "execution_count": null,
   "metadata": {},
   "outputs": [],
   "source": [
    "from jetbot import Camera\n",
    "\n",
    "camera = Camera.instance()"
   ]
  },
  {
   "cell_type": "markdown",
   "metadata": {},
   "source": [
    "### Création du lien entre l'instance de Camera et le widget Image"
   ]
  },
  {
   "cell_type": "markdown",
   "metadata": {},
   "source": [
    "L'instance de Camera que nous utilisons produit des images au format RGB8 (rouge, vert, bleu, 8bit), alors que la classe Image du widget ne peut afficher que des images au format *JPEG*.\n",
    "Nous avons donc besoin d'ajouter une fonction de conversion du format des images lors de la création du lien. Cette fonction s'appelle ``bgr8_to_jpeg`` :"
   ]
  },
  {
   "cell_type": "code",
   "execution_count": null,
   "metadata": {},
   "outputs": [],
   "source": [
    "from jetbot import bgr8_to_jpeg\n",
    "\n",
    "lien_camera = traitlets.dlink((camera, 'value'), (image, 'value'), transform=bgr8_to_jpeg)"
   ]
  },
  {
   "cell_type": "markdown",
   "metadata": {},
   "source": [
    "Vous devriez maintenant voir la vidéo s'afficher sur le widget Image créé précédemment !"
   ]
  },
  {
   "cell_type": "markdown",
   "metadata": {},
   "source": [
    "### Mise en place du chien de garde\n",
    "\n",
    "Vous pouvez maintenant actionner le robot et visualiser la vidéo prise par la caméra embarquée. Mais que faire si jamais une panne du Wifi survient ? Et bien, les moteurs risquent de malheureusement continuer à tourner ... et la caméra également.\n",
    "Nous allons donc mettre en oeuvre un chien de garde permettant d'annuler les liens sur les moteurs et la vidéo en cas de coupure Wifi."
   ]
  },
  {
   "cell_type": "code",
   "execution_count": null,
   "metadata": {},
   "outputs": [],
   "source": [
    "from jetbot import Heartbeat\n",
    "\n",
    "# Définition de la fonction à appeler lorsque le chien de garde change de status\n",
    "# Si le status passe à l'état dead, alors on dédruit les liens et on arrête le robot\n",
    "def action_chien_de_garde(change):\n",
    "    if change['new'] == Heartbeat.Status.dead:\n",
    "        lien_camera.unlink()\n",
    "        lien_gauche.unlink()\n",
    "        lien_droit.unlink()\n",
    "        robot.stop()\n",
    "\n",
    "chien_de_garde = Heartbeat(period=0.5)\n",
    "\n",
    "# Active l'observation de l'attribut \"status\" du chien de garde\n",
    "# Et appel de la fonction \"action_chien_de_garde\" si il y a un changement\n",
    "chien_de_garde.observe(action_chien_de_garde, names='status')"
   ]
  },
  {
   "cell_type": "markdown",
   "metadata": {},
   "source": [
    "Si le robot est déconnecté du réseau, alors il va s'arrêter. Vous pouvez alors le reconnecter en créant de nouveau les liens ci-dessous :"
   ]
  },
  {
   "cell_type": "code",
   "execution_count": null,
   "metadata": {},
   "outputs": [],
   "source": [
    "# N'appelez ce code que si les liens ont été dédruits\n",
    "\n",
    "lien_gauche = traitlets.dlink((controleur.axes[1], 'value'), (robot.left_motor, 'value'), transform=lambda x: -x)\n",
    "lien_droit = traitlets.dlink((controleur.axes[3], 'value'), (robot.right_motor, 'value'), transform=lambda x: -x)\n",
    "lien_camera = traitlets.dlink((camera, 'value'), (image, 'value'), transform=bgr8_to_jpeg)"
   ]
  },
  {
   "cell_type": "markdown",
   "metadata": {},
   "source": [
    "### Sauvegarder des prises de vues photo avec les boutons de la manette\n",
    "\n",
    "Pour terminer, nous allons faire en sorte de sauvegarder des images lors de l'appui sur un bouton de la manette. Faisons cela par exemple avec le bouton X (bouton B2 en mode Xbox 360). Les images seront sauvegardées dans le répertoire ``images/``, avec un nom de fichier qui est garanti comme étant unique en utilisant la fonction ``uuid`` en Python. On utilise l'identifiant ``uuid1``, car il encode également la date et l'adresse MAC."
   ]
  },
  {
   "cell_type": "code",
   "execution_count": null,
   "metadata": {},
   "outputs": [],
   "source": [
    "import uuid\n",
    "import subprocess\n",
    "\n",
    "# Création d'un répertoire pour sauvegarder les images\n",
    "subprocess.call(['mkdir', '-p', 'images'])\n",
    "\n",
    "# Création d'un widget de type image\n",
    "prise_image = widgets.Image(format='jpeg', width=300, height=300)\n",
    "\n",
    "# Définition de la fonction à appeler lorsque le bouton est pressé\n",
    "def sauvegarde_image(change):\n",
    "    # Sauvegarde de l'image\n",
    "    if change['new']:\n",
    "        repertoire_fichier = 'images/' + str(uuid.uuid1()) + '.jpg'\n",
    "        \n",
    "        # Sauvagrde de l'image dans le fichier (on utilise image.value qui est au format JPEG)\n",
    "        with open(repertoire_fichier, 'wb') as f:\n",
    "            f.write(image.value)\n",
    "            \n",
    "        # Affiche l'image sauvegardée\n",
    "        prise_image.value = image.value\n",
    "\n",
    "\n",
    "controleur.buttons[2].observe(sauvegarde_image, names='value')\n",
    "\n",
    "display(widgets.HBox([image, prise_image]))\n",
    "display(controleur)"
   ]
  },
  {
   "cell_type": "markdown",
   "metadata": {},
   "source": [
    "Avant de fermer ce notebook et de fermer le kernel, il faut arrêter la caméra."
   ]
  },
  {
   "cell_type": "code",
   "execution_count": null,
   "metadata": {},
   "outputs": [],
   "source": [
    "camera.stop()"
   ]
  }
 ],
 "metadata": {
  "kernelspec": {
   "display_name": "Python 3",
   "language": "python",
   "name": "python3"
  },
  "language_info": {
   "codemirror_mode": {
    "name": "ipython",
    "version": 3
   },
   "file_extension": ".py",
   "mimetype": "text/x-python",
   "name": "python",
   "nbconvert_exporter": "python",
   "pygments_lexer": "ipython3",
   "version": "3.6.9"
  }
 },
 "nbformat": 4,
 "nbformat_minor": 4
}
