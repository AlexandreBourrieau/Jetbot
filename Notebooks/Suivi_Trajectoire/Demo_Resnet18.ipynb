{
 "cells": [
  {
   "cell_type": "markdown",
   "metadata": {},
   "source": [
    "# Suivi de trajectoire - Démonstration (Resnet18)\n",
    "\n",
    "Dans ce notebook, nous allons utiliser le modèle entrainé en situation réelle !"
   ]
  },
  {
   "cell_type": "code",
   "execution_count": null,
   "metadata": {},
   "outputs": [],
   "source": [
    "import tensorflow as tf\n",
    "import numpy as np\n",
    "import cv2\n",
    "import os\n",
    "import shutil\n",
    "\n",
    "from tensorflow import keras"
   ]
  },
  {
   "cell_type": "markdown",
   "metadata": {},
   "source": [
    "# Création du modèle"
   ]
  },
  {
   "cell_type": "code",
   "execution_count": null,
   "metadata": {},
   "outputs": [],
   "source": [
    "import classification_models\n",
    "from classification_models.tfkeras import Classifiers\n",
    "\n",
    "# Chargement du modèle ResNEt18\n",
    "ResNet18, preprocess_input = Classifiers.get('resnet18')\n",
    "\n",
    "# Instanciation du modèle pré-entrainé ResNet18\n",
    "base_model = ResNet18(input_shape=(224,224,3), weights='imagenet', include_top=False,pooling=False)\n",
    "  \n",
    "# Ajout de l'applatissement des sorties et de la couche dense avec 2 neurones\"\n",
    "x = tf.keras.layers.GlobalAveragePooling2D()(base_model.output)\n",
    "output = tf.keras.layers.Dense(units=2, activation='linear')(x)\n",
    "\n",
    "model = tf.keras.Model(inputs=[base_model.input], outputs=[output])"
   ]
  },
  {
   "cell_type": "markdown",
   "metadata": {},
   "source": [
    "On charge ensuite les poids sauvegardés lors de l'entrainement :"
   ]
  },
  {
   "cell_type": "code",
   "execution_count": null,
   "metadata": {},
   "outputs": [],
   "source": [
    "model.load_weights(\"meilleur_modele.hdf5\")"
   ]
  },
  {
   "cell_type": "markdown",
   "metadata": {},
   "source": [
    "# Création de la classe Camera"
   ]
  },
  {
   "cell_type": "markdown",
   "metadata": {},
   "source": [
    "J'ai créé une classe Image personnelle afin d'optimiser le pipeline avec OpenCV :"
   ]
  },
  {
   "cell_type": "code",
   "execution_count": null,
   "metadata": {},
   "outputs": [],
   "source": [
    "import traitlets\n",
    "import threading\n",
    "import atexit\n",
    "import numpy as np\n",
    "\n",
    "\n",
    "class Camera(traitlets.HasTraits):\n",
    "    type_camera = traitlets.Unicode(\"CSI\")\n",
    "    capture_device = traitlets.Integer(default_value=0)\n",
    "    capture_width = traitlets.Integer(default_value=1280)\n",
    "    capture_height = traitlets.Integer(default_value=720)\n",
    "    display_width = traitlets.Integer(default_value=640)\n",
    "    display_height = traitlets.Integer(default_value=480)\n",
    "    fps = traitlets.Integer(default_value=30)\n",
    "    flip = traitlets.Integer(default_value=0)\n",
    "    image = traitlets.Any()\n",
    "    video_on = traitlets.Bool(default_value=False)\n",
    "    \n",
    "    def __init__(self,*args,**kwargs):\n",
    "        super(Camera, self).__init__(*args, **kwargs)\n",
    "        self._running = False\n",
    "        self.image = np.zeros((self.display_height, self.display_width, 3), dtype=np.uint8)\n",
    "        \n",
    "        if self.type_camera.find(\"CSI\")>=0:\n",
    "            self.cap = cv2.VideoCapture(self._gstreamer_pipeline_CSI(),cv2.CAP_GSTREAMER)\n",
    "        else:\n",
    "            self.cap = cv2.VideoCapture(self._gstreamer_pipeline_USB(),cv2.CAP_GSTREAMER)\n",
    "\n",
    "        if self.cap.isOpened():\n",
    "            print(\"Caméra initialisée\")\n",
    "        else:\n",
    "            print(\"Erreur d'ouverture du flux vidéo\")\n",
    "        atexit.register(self.cap.release)\n",
    "    \n",
    "    # Lecture d'une frame\n",
    "    def capture_image(self):\n",
    "        re, image = self.cap.read()\n",
    "        if re:\n",
    "            image_resized = cv2.resize(image,(int(self.display_width),int(self.display_height)))\n",
    "            return image_resized\n",
    "        else:\n",
    "            return self.image\n",
    "    \n",
    "    # ON/OFF de la capture vidéo\n",
    "    def capture_video(self,run=False):\n",
    "        if run is True:\n",
    "            self.video_on = True\n",
    "        else:\n",
    "            self.video_on = False\n",
    "    \n",
    "    # Lecture d'un flux vidéo\n",
    "    def _capture_video(self):\n",
    "        while True:\n",
    "            if not self._running:\n",
    "                break\n",
    "            self.image = self.capture_image()\n",
    "\n",
    "            \n",
    "    # Détachement de la caméra\n",
    "    def release(self):\n",
    "        self.cap.release()\n",
    "\n",
    "    # Définition du pipeline pour la caméra CSI\n",
    "    def _gstreamer_pipeline_CSI(self):\n",
    "        return(\"nvarguscamerasrc sensor-id=%d ! \"\n",
    "                \"video/x-raw(memory:NVMM),\"\n",
    "                \"width=(int)%d,height=(int)%d,\"\n",
    "                \"format=(string)NV12, framerate=(fraction)%d/1 ! \"\n",
    "                \"nvvidconv flip-method=%d ! \"\n",
    "                \"video/x-raw,\"\n",
    "                \"width=(int)%d,height=(int)%d,\"\n",
    "                \"format=(string)BGRx ! videoconvert ! \"\n",
    "                \"video/x-raw, format=(string)BGR ! \"\n",
    "                \"appsink drop=true\"\n",
    "        %(self.capture_device,self.capture_width,self.capture_height,self.fps,self.flip, self.display_width,self.display_height))\n",
    "\n",
    "    # Définition du pipeline pour la USB\n",
    "    def _gstreamer_pipeline_USB(self):\n",
    "        return(\"v4l2src device=/dev/video%d ! \"\n",
    "               \"video/x-raw, width=(int)%d, height=(int)%d, framerate=(fraction)%d/1 ! \"\n",
    "               \"videoflip method=%d ! \"\n",
    "               \"videoconvert ! \"\n",
    "               \"video/x-raw, format=(string)BGR ! appsink drop=true\"\n",
    "        %(self.capture_device,self.capture_width,self.capture_height,self.fps,self.flip))\n",
    "    \n",
    "    # Surveillance de la variable \"video_on\"\n",
    "    @traitlets.observe('video_on')\n",
    "    def _on_running(self, change):\n",
    "        if change['new'] and not change['old']:\n",
    "            # not running -> running\n",
    "            self._running = True\n",
    "            self.thread = threading.Thread(target=self._capture_video)\n",
    "            self.thread.start()\n",
    "        elif change['old'] and not change['new']:\n",
    "            # running -> not running\n",
    "            self._running = False\n",
    "            self.thread.join()"
   ]
  },
  {
   "cell_type": "markdown",
   "metadata": {},
   "source": [
    "Fonction pour initialiser la caméra :"
   ]
  },
  {
   "cell_type": "code",
   "execution_count": null,
   "metadata": {},
   "outputs": [],
   "source": [
    "def InitCamera():\n",
    "    camera = Camera(type_camera=\"CSI\",capture_device=0,\n",
    "                capture_width=224,capture_height=224,\n",
    "                display_width=224,display_height=224,\n",
    "                fps=25,flip=0)\n",
    "    return camera"
   ]
  },
  {
   "cell_type": "markdown",
   "metadata": {},
   "source": [
    "# Essai vidéo de prédictions"
   ]
  },
  {
   "cell_type": "code",
   "execution_count": null,
   "metadata": {},
   "outputs": [],
   "source": [
    "import ipywidgets\n",
    "import traitlets\n",
    "from IPython.display import display\n",
    "from jetbot import bgr8_to_jpeg\n",
    "\n",
    "print(\"Initialisation de la caméra...\")\n",
    "# Initialise la caméra\n",
    "try :\n",
    "    camera.capture_video(run=False)\n",
    "    camera.release()\n",
    "    del camera\n",
    "except NameError:\n",
    "    pass\n",
    "camera = InitCamera()\n",
    "\n",
    "print(\"Création des widget...\")\n",
    "# Création du widget de la vidéo\n",
    "camera_widget = ipywidgets.Image(format=\"jpeg\",width=camera.display_width, height=camera.display_height, value=bgr8_to_jpeg(camera.image))\n",
    "traitlets.dlink((camera, 'image'), (camera_widget, 'value'), transform=bgr8_to_jpeg)\n",
    "camera_link = traitlets.dlink((camera, 'image'), (camera_widget, 'value'), transform=bgr8_to_jpeg)\n",
    "\n",
    "# Création du widget de visualisaiton des coordonnées estimées\n",
    "preview_widget = ipywidgets.Image(format=\"jpeg\",width=camera.display_width, height=camera.display_height, value=bgr8_to_jpeg(camera.image))\n",
    "\n",
    "# Création du widget \"state\"\n",
    "state_widget = ipywidgets.ToggleButtons(options=['stop', 'live'], description='state', value='stop')\n",
    "\n",
    "# Lance la caméra\n",
    "camera.capture_video(run=True)\n",
    "\n",
    "# Fonction de traitement des actions du widget \"state_widget\"\n",
    "def live(state_widget,preview_widget, model, camera, essai = False):\n",
    "    if essai == True:\n",
    "        image = camera.image\n",
    "        xy = model(tf.expand_dims(tf.cast(image,tf.uint8),0)).numpy()[0]\n",
    "        \n",
    "    while state_widget.value == 'live':\n",
    "        # Capture de l'image\n",
    "        image = camera.image\n",
    "        \n",
    "        # Prédiciton des coordonnées\n",
    "        xy = model(tf.expand_dims(tf.cast(image,tf.uint8),0)).numpy()[0]\n",
    "\n",
    "        # Calcul des coordonnées en pixel\n",
    "        xs = np.int(camera.display_width * ((xy[0]+1) / 2.0))\n",
    "        ys = np.int(camera.display_height * ((xy[1]+1) / 2.0))\n",
    "        \n",
    "        # Tracé de la cible sur l'image\n",
    "        prediction = image.copy()\n",
    "        prediction = cv2.circle(prediction, (xs, ys), 8, (255, 0, 0), 3)\n",
    "        preview_widget.value = bgr8_to_jpeg(prediction)\n",
    "       \n",
    "def start_live(change):\n",
    "    if change['new'] == 'live':\n",
    "        global execute_thread\n",
    "        execute_thread = threading.Thread(target=live, args=(state_widget, preview_widget, model, camera))\n",
    "        execute_thread.start()\n",
    "    else:\n",
    "        execute_thread.join()\n",
    "\n",
    "# Exécute une fois le modèle\n",
    "print(\"Initialisation du modèle...\")\n",
    "execute_thread = threading.Thread(target=live, args=(state_widget, preview_widget, model, camera, True))\n",
    "execute_thread.start()\n",
    "execute_thread.join()\n",
    "print(\"Modèle initialisé...\")"
   ]
  },
  {
   "cell_type": "markdown",
   "metadata": {},
   "source": [
    "Affiche l'interface :"
   ]
  },
  {
   "cell_type": "code",
   "execution_count": null,
   "metadata": {
    "tags": []
   },
   "outputs": [],
   "source": [
    "# Création du lien d'observation du widget state\n",
    "state_widget.observe(start_live, names='value')\n",
    "\n",
    "# Affichage de l'interface\n",
    "data_collection_widget = ipywidgets.HBox([camera_widget,preview_widget])\n",
    "display(state_widget,data_collection_widget)"
   ]
  },
  {
   "cell_type": "markdown",
   "metadata": {},
   "source": [
    "# Ajout du pilotage automatique"
   ]
  },
  {
   "cell_type": "markdown",
   "metadata": {},
   "source": [
    "### Algorithme de pilotage automatique"
   ]
  },
  {
   "cell_type": "markdown",
   "metadata": {},
   "source": [
    "Les variables utilisées dans le calcul du pilotage automatique sont les suivantes :\n",
    "- Gain_Vitesse : C'est le gain en vitesse apporté au robot\n",
    "- Offset_Vitesse : C'est l'offset de vitesse à ajouter au calculateur\n",
    "- Kp : C'est le gain propotionnel du PID\n",
    "- Kd : C'est le gain dérivé du PID\n",
    "- Ki : C'est le gain intégral du PID"
   ]
  },
  {
   "cell_type": "code",
   "execution_count": null,
   "metadata": {},
   "outputs": [],
   "source": [
    "# Calcul de la commande automatique\n",
    "# pos_xy : Coordonnées [-1.0,1.0] de la cible\n",
    "\n",
    "nbr_step = 0\n",
    "erreur_1 = 0.0\n",
    "\n",
    "def CalculCommandes(pos_xy, Kp, Ki, Kd, Gain_Vitesse, Offset_Vitesse):\n",
    "    global erreur_1\n",
    "    global nbr_step\n",
    "       \n",
    "    # Calcul des coordonnées en pixel\n",
    "    xs = np.int(camera.display_width * ((pos_xy[0]+1) / 2.0))\n",
    "    ys = np.int(camera.display_height * ((pos_xy[1]+1) / 2.0))\n",
    "\n",
    "    # Calcul de l'angle de la cible par rapport à la verticale\n",
    "    angle = np.arctan2(camera.display_width/2 - xs,camera.display_height - ys)\n",
    "    \n",
    "    # Calcul de l'erreur\n",
    "    erreur = 0 - angle\n",
    "\n",
    "    # Calcul de la commande en sortie du PID\n",
    "    commande = erreur * (Kp + Ki*((1/(nbr_step+1))*(erreur_1+erreur)) + Kd*(erreur - erreur_1))\n",
    "    \n",
    "    # Ajout de l'offset en vitesse\n",
    "    commande = commande + Offset_Vitesse\n",
    "    \n",
    "    # Mise à jour des variables\n",
    "    erreur_1 = erreur\n",
    "    nbr_step = nbr_step + 1\n",
    "    \n",
    "    # Calcul des commandes moteur gauche et droit\n",
    "    commande_gauche = max(min(Gain_Vitesse + commande, 1.0), 0.0)\n",
    "    commande_droite = max(min(Gain_Vitesse - commande, 1.0), 0.0)\n",
    "    \n",
    "    return([commande_gauche,commande_droite])"
   ]
  },
  {
   "cell_type": "markdown",
   "metadata": {},
   "source": [
    "### Interface de visualisation"
   ]
  },
  {
   "cell_type": "markdown",
   "metadata": {},
   "source": [
    "On reprend l'interface précédent et on ajoute le calcul de la commande des moteurs ainsi que les sliders permettant de gérer les différents gains :"
   ]
  },
  {
   "cell_type": "code",
   "execution_count": null,
   "metadata": {},
   "outputs": [],
   "source": [
    "from jetbot import Robot\n",
    "\n",
    "robot = Robot()"
   ]
  },
  {
   "cell_type": "code",
   "execution_count": null,
   "metadata": {},
   "outputs": [],
   "source": [
    "import ipywidgets\n",
    "\n",
    "# Création des sliders\n",
    "Gain_Vitesse_slider = ipywidgets.FloatSlider(min=0.0, max=1.0, step=0.01, description='Gain vitesse')\n",
    "Offset_Vitesse_slider = ipywidgets.FloatSlider(min=-0.3, max=0.3, step=0.01, value=0.0, description='Offset vitesse')\n",
    "Commande_moteur_gauche = ipywidgets.FloatSlider(min=0.0, max=1.0, step=0.01, description='Mot. gauche',orientation='vertical')\n",
    "Commande_moteur_droit = ipywidgets.FloatSlider(min=0.0, max=1.0, step=0.01, description='Mot. droit',orientation='vertical')"
   ]
  },
  {
   "cell_type": "code",
   "execution_count": null,
   "metadata": {},
   "outputs": [],
   "source": [
    "import ipywidgets\n",
    "import traitlets\n",
    "from IPython.display import display\n",
    "from jetbot import bgr8_to_jpeg\n",
    "\n",
    "# Gain du correcteur PID\n",
    "Kp = 0.05\n",
    "Ki = 0.0\n",
    "Kd = 0.1\n",
    "\n",
    "print(\"Initialisation de la caméra...\")\n",
    "# Initialise la caméra\n",
    "try :\n",
    "    camera.capture_video(run=False)\n",
    "    camera.release()\n",
    "    del camera\n",
    "except NameError:\n",
    "    pass\n",
    "camera = InitCamera()\n",
    "\n",
    "print(\"Création des widget...\")\n",
    "# Création du widget de la vidéo\n",
    "camera_widget = ipywidgets.Image(format=\"jpeg\",width=camera.display_width, height=camera.display_height, value=bgr8_to_jpeg(camera.image))\n",
    "traitlets.dlink((camera, 'image'), (camera_widget, 'value'), transform=bgr8_to_jpeg)\n",
    "camera_link = traitlets.dlink((camera, 'image'), (camera_widget, 'value'), transform=bgr8_to_jpeg)\n",
    "\n",
    "# Création du widget de visualisaiton des coordonnées estimées\n",
    "preview_widget = ipywidgets.Image(format=\"jpeg\",width=camera.display_width, height=camera.display_height, value=bgr8_to_jpeg(camera.image))\n",
    "\n",
    "# Création du widget \"state\"\n",
    "state_widget = ipywidgets.ToggleButtons(options=['stop', 'live'], description='state', value='stop')\n",
    "\n",
    "# Lance la caméra\n",
    "camera.capture_video(run=True)\n",
    "\n",
    "# Fonction de traitement des actions du widget \"state_widget\"\n",
    "def live(state_widget,preview_widget, model, camera, essai = False):\n",
    "    global Kp\n",
    "    global Ki\n",
    "    global Kd\n",
    "    global robot\n",
    "\n",
    "    if essai == True:\n",
    "        image = camera.image\n",
    "        xy = model(tf.expand_dims(image,0)).numpy()[0]\n",
    "\n",
    "    if state_widget.value is not 'live':\n",
    "        robot.stop()\n",
    "        \n",
    "    while state_widget.value == 'live':\n",
    "        # Capture de l'image\n",
    "        image = camera.image\n",
    "        \n",
    "        # Prédiciton des coordonnées\n",
    "        xy = model(tf.expand_dims(tf.cast(image,tf.uint8),0)).numpy()[0]\n",
    "        \n",
    "        # Calcul de la commande\n",
    "        commande = CalculCommandes(xy, Kp, Ki, Kd, Gain_Vitesse_slider.value, Offset_Vitesse_slider.value)\n",
    "\n",
    "        # Calcul des coordonnées en pixel\n",
    "        xs = np.int(camera.display_width * ((xy[0]+1) / 2.0))\n",
    "        ys = np.int(camera.display_height * ((xy[1]+1) / 2.0))\n",
    "        \n",
    "        # Tracé de la cible sur l'image\n",
    "        prediction = image.copy()\n",
    "        prediction = cv2.circle(prediction, (xs, ys), 8, (255, 0, 0), 3)\n",
    "        preview_widget.value = bgr8_to_jpeg(prediction)\n",
    "        \n",
    "        # Commande du robot\n",
    "        robot.left_motor.value = commande[0]\n",
    "        robot.right_motor.value = commande[1]\n",
    "\n",
    "def start_live(change):\n",
    "    if change['new'] == 'live':\n",
    "        global execute_thread\n",
    "        execute_thread = threading.Thread(target=live, args=(state_widget, preview_widget, model, camera))\n",
    "        execute_thread.start()\n",
    "    else:\n",
    "        execute_thread.join()\n",
    "\n",
    "# Exécute une fois le modèle\n",
    "print(\"Initialisation du modèle...\")\n",
    "execute_thread = threading.Thread(target=live, args=(state_widget, preview_widget, model, camera, True))\n",
    "execute_thread.start()\n",
    "execute_thread.join()\n",
    "print(\"Modèle initialisé...\")"
   ]
  },
  {
   "cell_type": "code",
   "execution_count": null,
   "metadata": {},
   "outputs": [],
   "source": [
    "# Création du lien d'observation du widget state\n",
    "state_widget.observe(start_live, names='value')\n",
    "\n",
    "# Affichage de l'interface\n",
    "commandes_widget = ipywidgets.HBox([Commande_moteur_gauche,Commande_moteur_droit])\n",
    "data_collection_widget = ipywidgets.HBox([camera_widget,preview_widget,commandes_widget])\n",
    "\n",
    "display(state_widget,data_collection_widget,Gain_Vitesse_slider,Offset_Vitesse_slider)"
   ]
  },
  {
   "cell_type": "code",
   "execution_count": null,
   "metadata": {},
   "outputs": [],
   "source": [
    "robot.stop()"
   ]
  },
  {
   "cell_type": "code",
   "execution_count": null,
   "metadata": {},
   "outputs": [],
   "source": []
  }
 ],
 "metadata": {
  "kernelspec": {
   "display_name": "Python 3",
   "language": "python",
   "name": "python3"
  },
  "language_info": {
   "codemirror_mode": {
    "name": "ipython",
    "version": 3
   },
   "file_extension": ".py",
   "mimetype": "text/x-python",
   "name": "python",
   "nbconvert_exporter": "python",
   "pygments_lexer": "ipython3",
   "version": "3.6.9"
  }
 },
 "nbformat": 4,
 "nbformat_minor": 4
}
