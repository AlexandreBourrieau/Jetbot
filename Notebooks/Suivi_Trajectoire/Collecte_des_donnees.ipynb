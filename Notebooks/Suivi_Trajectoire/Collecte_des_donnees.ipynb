{
 "cells": [
  {
   "cell_type": "markdown",
   "metadata": {},
   "source": [
    "# Collecte des données pour le suivi de trajectoire \n",
    "\n",
    "Vous êtes maintenant habitué aux opérations suivantes :\n",
    "1.  Créer un dataset en collectant des données\n",
    "2.  Entrainer un modèle\n",
    "3.  Déployer un modèle\n",
    "\n",
    "Dans ce notebook, nous allons suivre exactement la même procédure, sauf qu'au lieu de faire de la classification nous allons faire de la **régression**. Cela va nous permettre de faire un suivi de trajectoire avec le JetBot.\n",
    "\n",
    "Pour collecter les données nécessaires à l'entrainement de notre modèle, vous allez suivre les étapes suivantes :\n",
    "\n",
    "1. Placer le Jetbot sur différents endroits du chemin à suivre (et ajouter un petit décalage, tester différents angles, etc.)\n",
    "\n",
    ">  Souvenez-vous de ce qu'on a déjà vu : Les données sont la clé du succès !\n",
    "\n",
    "2. Afficher le flux vidéo de la caméra.\n",
    "3. Sélectionner sur l'image un point qui correspond à la cible à suivre.\n",
    "4. Sauvegarder les coordonnées X, Y de ce point avec l'image correspondante.\n",
    "\n",
    "\n",
    "Ensuite, dans le notebook dédié à l'entrainement du modèle, nous ferons en sorte que notre réseau de neurones soit capable de prédire les valeurs des coordonnées X, Y du chemin à suivre à partir d'une image de la route.\n",
    "\n",
    "Nous pourrons alors réaliser une démonstration en temps réel du suivi de trajectoire. Nous utiliserons les prédictions sur les coordonnées X,Y afin de calculer la valeur à mettre dans les moteurs pour faire tourner et avancer le robot.\n",
    "\n",
    "Voici un petit guide pour vous aider à sélectionner le point cible sur les images :\n",
    "\n",
    "1.  Observer la vidéo de la caméra\n",
    "2.  Imaginez le chemin que le robot devrait suivre tout en évitant que le robot ne sorte de la route\n",
    "3.  Placer le point cible aussi loin que le robot puisse aller sur ce chemin en ligne droite, et de sorte qu'il reste sur la route\n",
    "\n",
    "> Par exemple, sur une route en ligne droite, le point cible peut être placé à l'horizon. S'il y a des virages, il faudra le placer plus près pour éviter que le robot sorte de la route.\n",
    "\n",
    "Ce que nous allons faire est de donner une carotte à notre robot, et le robot va suivre cette carotte !\n",
    "\n",
    "Pour le circuit, vous pouvez par exemple utiliser ce PDF : https://github.com/AlexandreBourrieau/Jetbot/raw/main/Printable%20PDF%20Racetrack%20-%20Modarri%20-%20The%20Ultimate%20Toy%20Car.pdf"
   ]
  },
  {
   "cell_type": "markdown",
   "metadata": {},
   "source": [
    "### Chargement des librairies"
   ]
  },
  {
   "cell_type": "markdown",
   "metadata": {},
   "source": [
    "Commençons par charger quelques librairies dont nous aurons besoin, comme par exemple OpenCV qui nous servira à visualiser et sauvegarder les images. Les librairies uuid et datetime sont utilisées pour nommer les fichiers."
   ]
  },
  {
   "cell_type": "code",
   "execution_count": 1,
   "metadata": {},
   "outputs": [],
   "source": [
    "# Librairies IPython pour les widgets\n",
    "import ipywidgets\n",
    "import traitlets\n",
    "import ipywidgets.widgets as widgets\n",
    "from IPython.display import display\n",
    "import tensorflow as tf\n",
    "\n",
    "# Librairie du JetBot pour commander le robot et la caméra\n",
    "from jetbot import Robot, Camera, bgr8_to_jpeg\n",
    "\n",
    "# Librairies basiques en Python pour nommer les fichiers\n",
    "from uuid import uuid1\n",
    "import os\n",
    "import json\n",
    "import glob\n",
    "import datetime\n",
    "import numpy as np\n",
    "import cv2\n",
    "import time"
   ]
  },
  {
   "cell_type": "markdown",
   "metadata": {},
   "source": [
    "### Collecte des données"
   ]
  },
  {
   "cell_type": "markdown",
   "metadata": {},
   "source": [
    "Affichons le flux de la caméra mais cette fois-ci en utilisant un widget de type `jupyter_clickable_image_widget` qui permet à l'utilisateur de cliquer sur l'image et d'extraire les coordonnées du point cliqué. Ces coordonnées nous servirons à nommer les fichiers.\n",
    "\n",
    "On utilise la classe Camera du Jetbot pour utiliser la caméra embarquée CSI. Le réseau prend des images au format 224x224 pixels en entrée. On utilise donc cette résolution pour initialiser la caméra.\n",
    "\n",
    "Le code suivant va afficher le flux vidéo ainsi que la dernière image sauvegardée (avec un cercle vert sur l'endroit cliqué) sur la droite. On affiche également le nombre d'images sauvegardées. Essayez d'en prendre au moins 150.\n",
    "\n",
    "Lors d'un clic sur une image, le fichier sauvegardé est enregistré dans le répertoire ``dataset_xy`` et nommé de la manière suivante :\n",
    "\n",
    "``xy_<valeur_X>_<valeur_Y>_<uuid>.jpg``\n",
    "\n",
    "Lors de l'entrainement, les images seront chargées et les coordonnées X,Y extraites à partir du nom des fichiers. Les valeurs `<valeur_X>` et `<valeur_Y>` sont les coordonnées **en pixels** (calculées depuis le coin supérieur gauche de l'image).\n",
    "\n"
   ]
  },
  {
   "cell_type": "code",
   "execution_count": 2,
   "metadata": {},
   "outputs": [
    {
     "name": "stdout",
     "output_type": "stream",
     "text": [
      "Répertoire déjà existant\n"
     ]
    },
    {
     "data": {
      "application/vnd.jupyter.widget-view+json": {
       "model_id": "90a6440d135f45ec9f49cadc04a07373",
       "version_major": 2,
       "version_minor": 0
      },
      "text/plain": [
       "VBox(children=(HBox(children=(ClickableImageWidget(value=b'\\xff\\xd8\\xff\\xe0\\x00\\x10JFIF\\x00\\x01\\x01\\x00\\x00\\x0…"
      ]
     },
     "metadata": {},
     "output_type": "display_data"
    }
   ],
   "source": [
    "from jupyter_clickable_image_widget import ClickableImageWidget\n",
    "\n",
    "REPERTOIRE = 'dataset_xy'\n",
    "\n",
    "# Création du répertoire\n",
    "try:\n",
    "    os.makedirs(REPERTOIRE)\n",
    "except FileExistsError:\n",
    "    print('Répertoire déjà existant')\n",
    "\n",
    "camera = Camera()\n",
    "\n",
    "# Visualisation du flux vidéo et de l'image capturée\n",
    "widget_camera = ClickableImageWidget(width=camera.width, height=camera.height)\n",
    "image_widget = ipywidgets.Image(width=camera.width, height=camera.height)\n",
    "traitlets.dlink((camera, 'value'), (widget_camera, 'value'), transform=bgr8_to_jpeg)\n",
    "\n",
    "# Création des widgets\n",
    "widget_compteur = ipywidgets.IntText(description='compteur')\n",
    "\n",
    "# Initialise le compteur\n",
    "widget_compteur.value = len(glob.glob(os.path.join(REPERTOIRE, '*.jpg')))\n",
    "\n",
    "def sauvegarde_image(_, content, msg):\n",
    "    if content['event'] == 'click':\n",
    "        data = content['eventData']\n",
    "        x = data['offsetX']                           # Coordonnée X\n",
    "        y = data['offsetY']                           # Coordonnée Y\n",
    "        \n",
    "        # Sauvegarde de l'image sur la carte SD\n",
    "        uuid = 'xy_%03d_%03d_%s' % (x, y, uuid1())\n",
    "        repertoire_image = os.path.join(REPERTOIRE, uuid + '.jpg')\n",
    "        with open(repertoire_image, 'wb') as f:\n",
    "            f.write(widget_camera.value)\n",
    "        \n",
    "        # Affiche de l'image sauvegardée en y ajoutant\n",
    "        # Un petit cercle vert sur le point cliqué\n",
    "        image = camera.value.copy()\n",
    "        image = cv2.circle(image, (x, y), 8, (0, 255, 0), 3)\n",
    "        image_widget.value = bgr8_to_jpeg(image)\n",
    "        widget_compteur.value = len(glob.glob(os.path.join(REPERTOIRE, '*.jpg')))\n",
    "        \n",
    "widget_camera.on_msg(sauvegarde_image)\n",
    "\n",
    "widget_global = ipywidgets.VBox([\n",
    "    ipywidgets.HBox([widget_camera, image_widget]),\n",
    "    widget_compteur\n",
    "])\n",
    "\n",
    "display(widget_global)"
   ]
  },
  {
   "cell_type": "code",
   "execution_count": null,
   "metadata": {},
   "outputs": [],
   "source": [
    "camera.stop()"
   ]
  },
  {
   "cell_type": "code",
   "execution_count": null,
   "metadata": {},
   "outputs": [],
   "source": [
    "!zip -r dataset.zip dataset_xy"
   ]
  },
  {
   "cell_type": "markdown",
   "metadata": {},
   "source": [
    "# Vérification des données enregistrées"
   ]
  },
  {
   "cell_type": "code",
   "execution_count": null,
   "metadata": {},
   "outputs": [],
   "source": [
    "# Librairies IPython pour les widgets\n",
    "import ipywidgets\n",
    "import traitlets\n",
    "import ipywidgets.widgets as widgets\n",
    "from IPython.display import display\n",
    "\n",
    "# Librairie du JetBot pour commander le robot et la caméra\n",
    "from jetbot import Robot, Camera, bgr8_to_jpeg\n",
    "\n",
    "# Librairies basiques en Python pour nommer les fichiers\n",
    "from uuid import uuid1\n",
    "import os\n",
    "import json\n",
    "import glob\n",
    "import datetime\n",
    "import numpy as np\n",
    "import cv2\n",
    "import time"
   ]
  },
  {
   "cell_type": "code",
   "execution_count": null,
   "metadata": {},
   "outputs": [],
   "source": [
    "REPERTOIRE = 'dataset_xy'\n",
    "\n",
    "# Création du répertoire\n",
    "try:\n",
    "    os.makedirs(REPERTOIRE)\n",
    "except FileExistsError:\n",
    "    print('Répertoire déjà existant')"
   ]
  },
  {
   "cell_type": "code",
   "execution_count": null,
   "metadata": {},
   "outputs": [],
   "source": [
    "from jupyter_clickable_image_widget import ClickableImageWidget\n",
    "import glob\n",
    "\n",
    "compteur_images = 0\n",
    "\n",
    "#Récupération des fichiers\n",
    "repertoires_images = []\n",
    "repertoire_courant = os.getcwd()\n",
    "for fichier in glob.glob(repertoire_courant+\"/dataset_xy/*.jpg\"):\n",
    "    repertoires_images.append(fichier)\n",
    "\n",
    "# Visualisation des images\n",
    "image_widget = ipywidgets.Image(width=224, height=224)\n",
    "\n",
    "# Création des widgets\n",
    "widget_compteur = ipywidgets.IntText(description='compteur')\n",
    "bouton_suivant = ipywidgets.Button(description=\"Suivant\")\n",
    "bouton_precedent = ipywidgets.Button(description=\"Précédent\")\n",
    "\n",
    "bouton_supprimer = ipywidgets.Button(description=\"Supprimer\",button_style='danger')\n",
    "\n",
    "# Initialise le compteur\n",
    "widget_compteur.value = len(glob.glob(os.path.join(REPERTOIRE, '*.jpg')))\n",
    "\n",
    "\n",
    "def Clic_BoutonPrecedent(b):\n",
    "    global compteur_images\n",
    "    compteur_images = compteur_images - 2\n",
    "    if compteur_images < 0:\n",
    "        compteur_images = 0\n",
    "    Clic_BoutonSuivant(1)\n",
    "\n",
    "    \n",
    "def Clic_BoutonSuivant(b):\n",
    "    global compteur_images\n",
    "    \n",
    "    if compteur_images >= len(repertoires_images):\n",
    "        return\n",
    "\n",
    "    # Récupératioon des coordonnées\n",
    "    element = tf.strings.split(repertoires_images[compteur_images],sep=\"xy_\")\n",
    "    element = tf.strings.split(element[1],sep=\"_\")\n",
    "    x0 = (tf.strings.to_number(element[0],out_type=tf.dtypes.float32) - 224/2) / (224/2)\n",
    "    y0 = (tf.strings.to_number(element[1],out_type=tf.dtypes.float32) - 224/2) / (224/2)\n",
    "    \n",
    "    # Calcul des coordonnées en pixel\n",
    "    xs = np.int(224 * ((x0+1) / 2.0))\n",
    "    ys = np.int(224 * ((y0+1) / 2.0))\n",
    "\n",
    "    # Lecture de l'image\n",
    "    image = cv2.imread(repertoires_images[compteur_images])\n",
    "    compteur_images = compteur_images + 1\n",
    "    \n",
    "    # Tracé de la cible sur l'image\n",
    "    image = cv2.circle(np.array(image), (xs, ys), 8, (255, 0, 0), 3)\n",
    "    image = cv2.line(np.array(image),(112,224),(xs,ys),(0,0,255),3)\n",
    "    image_widget.value = bgr8_to_jpeg(image)\n",
    "    \n",
    "    \n",
    "    # Affcihe le compteur\n",
    "    widget_compteur.value = compteur_images\n",
    "\n",
    "def Clic_BoutonSupprimer(b):\n",
    "    global compteur_images\n",
    "    global repertoires_images\n",
    "    os.remove(repertoires_images[compteur_images-1])\n",
    "    \n",
    "    #Récupération des fichiers\n",
    "    repertoires_images = []\n",
    "    repertoire_courant = os.getcwd()\n",
    "    for fichier in glob.glob(repertoire_courant+\"/dataset_xy/*.jpg\"):\n",
    "        repertoires_images.append(fichier)\n",
    "\n",
    "    compteur_images = compteur_images - 2\n",
    "    Clic_BoutonSuivant(1)\n",
    "\n",
    "\n",
    "# Mise en place des liens\n",
    "bouton_suivant.on_click(Clic_BoutonSuivant)\n",
    "bouton_precedent.on_click(Clic_BoutonPrecedent)\n",
    "bouton_supprimer.on_click(Clic_BoutonSupprimer)\n",
    "\n",
    "widget_global = ipywidgets.VBox([\n",
    "    ipywidgets.HBox([image_widget]),\n",
    "    widget_compteur,bouton_precedent,bouton_suivant,bouton_supprimer\n",
    "])\n",
    "\n",
    "display(widget_global)\n",
    "Clic_BoutonSuivant(1)"
   ]
  },
  {
   "cell_type": "code",
   "execution_count": null,
   "metadata": {},
   "outputs": [],
   "source": []
  }
 ],
 "metadata": {
  "kernelspec": {
   "display_name": "Python 3",
   "language": "python",
   "name": "python3"
  },
  "language_info": {
   "codemirror_mode": {
    "name": "ipython",
    "version": 3
   },
   "file_extension": ".py",
   "mimetype": "text/x-python",
   "name": "python",
   "nbconvert_exporter": "python",
   "pygments_lexer": "ipython3",
   "version": "3.6.9"
  }
 },
 "nbformat": 4,
 "nbformat_minor": 4
}
