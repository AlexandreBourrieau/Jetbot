{
 "cells": [
  {
   "cell_type": "markdown",
   "metadata": {},
   "source": [
    "# Evitement de collision - Création des données\n",
    "\n",
    "Vous avez maintenant vu comment manœuvrer le robot à l'aide de programmes Python, et à quel point cela est simple ! Mais comment pourrions-nous faire pour que le robot soit capable de se diriger seul ?\n",
    "\n",
    "C'est un objectif très difficile et de nombreuses approches existent. Mais ce problème peut être décomposé en problématiques plus simples à réaliser. L'une d'entre elles est de faire en sorte que le robot soit capable de détecter un obstacle afin de naviguer en toute sécurité.\n",
    "\n",
    "Les notebooks contenus dans ce dossier ont pour but de répondre à cette problématique en utilisant comme seul capteur la caméra embarquée du Jetbot ! Vous allez voir comment le Jetbot va pouvoir éviter des obstacles à l'aide d'une IA composée d'un réseau de neurones à convolution.  Bien entendu, la vision du robot est limitée par son champ de vision et donc il ne peut pas détecter des obstacles qu'il ne voit pas.\n",
    "\n",
    "La procédure que nous allons suivre est très simple :\n",
    "- Nous allons tout d'abord placer le robot dans des conditions qui ne respectent pas les conditions de \"sécurité\". Ces conditions seront appelées \"bloquer\" (\"bloquer\" est le **label** correspondant à ces conditions). Nous prendrons des photographies à l'aide de la caméra de ce que le robot voit dans ces conditions.\n",
    "\n",
    "- Ensuite, nous placerons le robot dans des conditions de sécurité. Le label correspondant sera nommé \"libre\". Comme précédemment, des photographies seront prises et enregistrées sous ce label.\n",
    "\n",
    "L'ensemble de ces résultats nous permettra de créer un ensemble de données appelé **dataset**. Quand nous aurons beaucoup d'images représentatives de ces deux conditions avec les labels associés, nous enverrons le dataset obtenu dans le GPU du jetson pour **entrainer** le réseau de neurones. Ce réseau de neurones nous permettra ensuite de prédire, en fonction des images issues de la caméra, si le robot se trouve dans une condition de sécurité ou non. Nous utiliserons ensuite le réseau entrainé pour gérer l'évitement de collision pendant la marche du Jetbot."
   ]
  },
  {
   "cell_type": "markdown",
   "metadata": {},
   "source": [
    "### Affichage de la caméra\n",
    "\n",
    "Pour commencer, initialisons la caméra afin de créer un écran de visualisation.\n",
    "\n",
    "> Le réseau de neurones que nous allons utiliser prend en entrée des images de 224x224 pixels. Nous allons donc configurer la caméra dans cette résolution afin de minimiser la taille des images et donc de notre dataset.\n",
    "> Dans certaines situations, il sera peut-être préférable de prendre des images plus larges et de les redimensionner par la suite. "
   ]
  },
  {
   "cell_type": "code",
   "execution_count": null,
   "metadata": {
    "scrolled": true
   },
   "outputs": [],
   "source": [
    "import traitlets\n",
    "import ipywidgets.widgets as widgets\n",
    "from IPython.display import display\n",
    "from jetbot import Camera, bgr8_to_jpeg\n",
    "\n",
    "camera = Camera.instance(width=224, height=224)              # Configure la caméra au format 224x224 pixels\n",
    "\n",
    "image = widgets.Image(format='jpeg', width=224, height=224)  # Enregistre les images au format 224x224 pixels\n",
    "\n",
    "camera_link = traitlets.dlink((camera, 'value'), (image, 'value'), transform=bgr8_to_jpeg)\n",
    "\n",
    "display(image)"
   ]
  },
  {
   "cell_type": "markdown",
   "metadata": {},
   "source": [
    "Maintenant, nous allons créer un répertoire qui nous permettra de sauvegarder nos données. Nous allons nommer ce répertoire ``dataset``. Il va contenir deux sous-répertoires : ``libre`` et ``bloquer``. Les images correspondantes à chaque condition seront sauvegardées dans ces sous-répertoires."
   ]
  },
  {
   "cell_type": "code",
   "execution_count": null,
   "metadata": {},
   "outputs": [],
   "source": [
    "import os\n",
    "\n",
    "repertoire_bloquer = 'dataset/bloquer'\n",
    "repertoire_libre = 'dataset/libre'\n",
    "\n",
    "# On utilise lex exeptions car si les réperoires exsitent déjà cela provoquera une erreur\n",
    "try:\n",
    "    os.makedirs(repertoire_bloquer)\n",
    "    os.makedirs(repertoire_libre)\n",
    "except FileExistsError:\n",
    "    print('Réperoires non créés car ils existent déjà')"
   ]
  },
  {
   "cell_type": "markdown",
   "metadata": {},
   "source": [
    "Vous devriez maintenant voir le réperoire dataset ainsi que les deux répertoires associés.\n",
    "\n",
    "Nous allons maintenant afficher quelques boutons afin d'avoir un interface pour prendre les photographies et décider à quelle **classe** (c'est à dire quel label) appartient chaque photo. Nous allons également indiquer combien d'images sont contenues dans chaque classe."
   ]
  },
  {
   "cell_type": "code",
   "execution_count": null,
   "metadata": {},
   "outputs": [],
   "source": [
    "layout_bouton = widgets.Layout(width='128px', height='64px')\n",
    "bouton_libre = widgets.Button(description='Ajouter libre', button_style='success', layout=layout_bouton)\n",
    "bouton_bloquer = widgets.Button(description='Ajouter bloquer', button_style='danger', layout=layout_bouton)\n",
    "nombre_libre = widgets.IntText(layout=layout_bouton, value=len(os.listdir(repertoire_libre)))\n",
    "nombre_bloquer = widgets.IntText(layout=layout_bouton, value=len(os.listdir(repertoire_bloquer)))\n",
    "\n",
    "display(widgets.HBox([nombre_libre, bouton_libre]))\n",
    "display(widgets.HBox([nombre_bloquer, bouton_bloquer]))"
   ]
  },
  {
   "cell_type": "markdown",
   "metadata": {},
   "source": [
    "Pour le moment ces boutons n'ont aucune action associée. Il faut que nous attachions des fonctions permettant de sauvegarder une image à chaque fois qu'un clic de souris est détecté sur le bouton. Pour cela nous allons utiliser l'évènement ``on_click``. Nous sauvegarderons alors la valeur du widget ``Image`` (plutôt que celui du widget camera car l'image est déjà compressée au format JPEG !)\n",
    "\n",
    "Pour être sûr de ne pas répéter le nom des fichiers, nous allons utiliser le package ``uuid``."
   ]
  },
  {
   "cell_type": "code",
   "execution_count": null,
   "metadata": {},
   "outputs": [],
   "source": [
    "from uuid import uuid1\n",
    "\n",
    "# Fonction permettant de sauvegarder une image avec un nom de fichier unique\n",
    "def sauvegarde_image(repertoire):\n",
    "    chemin_image = os.path.join(repertoire, str(uuid1()) + '.jpg')\n",
    "    with open(chemin_image, 'wb') as f:\n",
    "        f.write(image.value)\n",
    "\n",
    "# Fonction appellée lors de l'appui sur le bouton \"Ajouter libre\"\n",
    "def sauvegarde_libre():\n",
    "    global repertoire_libre, nombre_libre\n",
    "    sauvegarde_image(repertoire_libre)\n",
    "    nombre_libre.value = len(os.listdir(repertoire_libre))\n",
    "    \n",
    "# Fonction appellée lors de l'appui sur le bouton \"Ajouter bloquer\"\n",
    "def sauvegarde_bloquer():\n",
    "    global repertoire_bloquer, nombre_bloquer\n",
    "    sauvegarde_image(repertoire_bloquer)\n",
    "    nombre_bloquer.value = len(os.listdir(repertoire_bloquer))\n",
    "    \n",
    "# Création des liens entre les fonctions et les évènements \"on_click\" des boutons\n",
    "bouton_libre.on_click(lambda x: sauvegarde_libre())\n",
    "bouton_bloquer.on_click(lambda x: sauvegarde_bloquer())"
   ]
  },
  {
   "cell_type": "markdown",
   "metadata": {},
   "source": [
    "Les butons peuvent maintenant sauvegarder nos images dans les bons répertoires ! \n",
    "\n",
    "Il est temps de récupérer des données :\n",
    "\n",
    "1. Placer le robot dans les conditions de non sécurité et cliquer sur le bouton ``Ajouter bloquer``\n",
    "2. Placer le robot dans les conditions de sécurité et cliquer sur le bouton ``Ajouter libre``\n",
    "3. Répéter les étapes 1 et 2\n",
    "\n",
    "Quelques astuces :\n",
    "\n",
    "1. Utiliser différentes orientations\n",
    "2. Utiliser différents éclairages\n",
    "3. Varier les objets à éviter : Murs, objets, meubles, ...\n",
    "4. Utiliser différentes textures : lisses, granuleuses, verre, ...\n",
    "\n",
    "Dans l'idéal, plus le dataset est important et plus le robot sera capable d'éviter les collisions dans la vie réelle. Il est important d'avoir des données *variées* et non pas uniquement beaucoup de données. Vous aurez probablement besoin d'au moins 100 images par classe."
   ]
  },
  {
   "cell_type": "code",
   "execution_count": null,
   "metadata": {},
   "outputs": [],
   "source": [
    "display(image)\n",
    "display(widgets.HBox([nombre_libre, bouton_libre]))\n",
    "display(widgets.HBox([nombre_bloquer, bouton_bloquer]))"
   ]
  },
  {
   "cell_type": "markdown",
   "metadata": {},
   "source": [
    "Fermons maintenant la caméra :"
   ]
  },
  {
   "cell_type": "code",
   "execution_count": null,
   "metadata": {},
   "outputs": [],
   "source": [
    "camera.stop()"
   ]
  },
  {
   "cell_type": "markdown",
   "metadata": {},
   "source": [
    "## Et après ?\n",
    "\n",
    "Une fois que les données ont été collectées, nous les utiliserons pour entrainer notre réseau de neurones. Il est possible de compresser les données avec la commande suivante depuis un terminal :\n",
    "\n",
    "> Le préfixe ! indique que la commande doit être exécutée dans un terminal (ou *shell*)\n",
    "\n",
    "> L'argument -r dans la commande zip précise qu'on souhaite compresser les fichiers de manière récursive (tous les fichiers dans les sous-répertoires seront donc sont pris en compte)."
   ]
  },
  {
   "cell_type": "code",
   "execution_count": null,
   "metadata": {},
   "outputs": [],
   "source": [
    "!zip -r dataset.zip dataset"
   ]
  },
  {
   "cell_type": "markdown",
   "metadata": {},
   "source": [
    "Vous devriez voir un fichier nommé ``dataset.zip`` dans l'explorateur de fichiers.  Vous pouvez télécharger ce fichier en cliquant sur ``Download``."
   ]
  },
  {
   "cell_type": "code",
   "execution_count": null,
   "metadata": {},
   "outputs": [],
   "source": []
  }
 ],
 "metadata": {
  "kernelspec": {
   "display_name": "Python 3",
   "language": "python",
   "name": "python3"
  },
  "language_info": {
   "codemirror_mode": {
    "name": "ipython",
    "version": 3
   },
   "file_extension": ".py",
   "mimetype": "text/x-python",
   "name": "python",
   "nbconvert_exporter": "python",
   "pygments_lexer": "ipython3",
   "version": "3.6.9"
  }
 },
 "nbformat": 4,
 "nbformat_minor": 4
}
